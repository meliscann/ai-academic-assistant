{
 "cells": [
  {
   "cell_type": "markdown",
   "id": "73dffe34",
   "metadata": {},
   "source": [
    "### Import required libraries for document loading, splitting, embedding, and vector database storage"
   ]
  },
  {
   "cell_type": "code",
   "execution_count": 2,
   "id": "fc6e47ea",
   "metadata": {},
   "outputs": [],
   "source": [
    "from langchain_community.document_loaders import PyPDFLoader\n",
    "from langchain.text_splitter import RecursiveCharacterTextSplitter\n",
    "from langchain_community.vectorstores import Chroma\n",
    "from langchain_community.embeddings import HuggingFaceEmbeddings\n",
    "import os"
   ]
  },
  {
   "cell_type": "markdown",
   "id": "bd1a6790",
   "metadata": {},
   "source": [
    "### Load PDF documents from the 'data' directory and extract each page as a separate document"
   ]
  },
  {
   "cell_type": "code",
   "execution_count": 3,
   "id": "e910b1a0",
   "metadata": {},
   "outputs": [],
   "source": [
    "documents = []\n",
    "for filename in os.listdir(\"./data\"):\n",
    "    if filename.endswith(\".pdf\"):\n",
    "        loader = PyPDFLoader(os.path.join(\"./data\", filename))\n",
    "        pdf_pages = loader.load()\n",
    "        for i, page in enumerate(pdf_pages):\n",
    "            page.metadata[\"source\"] = filename\n",
    "            page.metadata[\"page\"] = i + 1\n",
    "        documents.extend(pdf_pages)"
   ]
  },
  {
   "cell_type": "markdown",
   "id": "3a419ddd",
   "metadata": {},
   "source": [
    "### Split the loaded documents into smaller, overlapping chunks for better embedding performance"
   ]
  },
  {
   "cell_type": "code",
   "execution_count": 4,
   "id": "22b47b5d",
   "metadata": {},
   "outputs": [],
   "source": [
    "text_splitter = RecursiveCharacterTextSplitter(\n",
    "    chunk_size=1000,\n",
    "    chunk_overlap=200\n",
    ")\n",
    "docs = text_splitter.split_documents(documents)"
   ]
  },
  {
   "cell_type": "markdown",
   "id": "3baef5cc",
   "metadata": {},
   "source": [
    "### Initialize the HuggingFace embedding model to convert text chunks into vector representations"
   ]
  },
  {
   "cell_type": "code",
   "execution_count": 5,
   "id": "3e274d56",
   "metadata": {},
   "outputs": [
    {
     "name": "stderr",
     "output_type": "stream",
     "text": [
      "/var/folders/cp/jgt7y16n02b9fphynm9d9g280000gn/T/ipykernel_91075/3081733227.py:1: LangChainDeprecationWarning: The class `HuggingFaceEmbeddings` was deprecated in LangChain 0.2.2 and will be removed in 1.0. An updated version of the class exists in the :class:`~langchain-huggingface package and should be used instead. To use it run `pip install -U :class:`~langchain-huggingface` and import as `from :class:`~langchain_huggingface import HuggingFaceEmbeddings``.\n",
      "  embedding_function = HuggingFaceEmbeddings(model_name=\"sentence-transformers/all-MiniLM-L6-v2\")\n",
      "/Users/meliscan/anaconda3/envs/langchain-env/lib/python3.11/site-packages/tqdm/auto.py:21: TqdmWarning: IProgress not found. Please update jupyter and ipywidgets. See https://ipywidgets.readthedocs.io/en/stable/user_install.html\n",
      "  from .autonotebook import tqdm as notebook_tqdm\n"
     ]
    }
   ],
   "source": [
    "embedding_function = HuggingFaceEmbeddings(model_name=\"sentence-transformers/all-MiniLM-L6-v2\")"
   ]
  },
  {
   "cell_type": "markdown",
   "id": "ed760b2b",
   "metadata": {},
   "source": [
    "### Create a new Chroma vector database (if not exists), or load the existing one and add embeddings"
   ]
  },
  {
   "cell_type": "code",
   "execution_count": 6,
   "id": "bf7f17cd",
   "metadata": {},
   "outputs": [
    {
     "name": "stdout",
     "output_type": "stream",
     "text": [
      "✅ Created and saved new Chroma vector database.\n"
     ]
    },
    {
     "name": "stderr",
     "output_type": "stream",
     "text": [
      "/var/folders/cp/jgt7y16n02b9fphynm9d9g280000gn/T/ipykernel_91075/3972217867.py:6: LangChainDeprecationWarning: Since Chroma 0.4.x the manual persistence method is no longer supported as docs are automatically persisted.\n",
      "  vectordb.persist()\n"
     ]
    }
   ],
   "source": [
    "if os.path.exists(\"./chroma_db\"):\n",
    "    vectordb = Chroma(persist_directory=\"./chroma_db\", embedding_function=embedding_function)\n",
    "    print(\"📁 Loaded existing Chroma vector database.\")\n",
    "else:\n",
    "    vectordb = Chroma.from_documents(docs, embedding_function, persist_directory=\"./chroma_db\")\n",
    "    vectordb.persist()\n",
    "    print(\"✅ Created and saved new Chroma vector database.\")"
   ]
  }
 ],
 "metadata": {
  "kernelspec": {
   "display_name": "langchain-env",
   "language": "python",
   "name": "python3"
  },
  "language_info": {
   "codemirror_mode": {
    "name": "ipython",
    "version": 3
   },
   "file_extension": ".py",
   "mimetype": "text/x-python",
   "name": "python",
   "nbconvert_exporter": "python",
   "pygments_lexer": "ipython3",
   "version": "3.11.12"
  }
 },
 "nbformat": 4,
 "nbformat_minor": 5
}
